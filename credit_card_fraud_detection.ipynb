{
 "metadata": {
  "language_info": {
   "codemirror_mode": {
    "name": "ipython",
    "version": 3
   },
   "file_extension": ".py",
   "mimetype": "text/x-python",
   "name": "python",
   "nbconvert_exporter": "python",
   "pygments_lexer": "ipython3",
   "version": "3.7.4-final"
  },
  "orig_nbformat": 2,
  "kernelspec": {
   "name": "python3",
   "display_name": "Python 3",
   "language": "python"
  }
 },
 "nbformat": 4,
 "nbformat_minor": 2,
 "cells": [
  {
   "source": [
    "# Financial inclusion project\n",
    "# Name: Immanuella Duke\n",
    "# Description: This project predicts whether a given person has a bank account or not.\n",
    "# Link to hackathon: https://zindi.africa/competitions/financial-inclusion-in-africa\n"
   ],
   "cell_type": "markdown",
   "metadata": {}
  },
  {
   "source": [
    "## Import libraries"
   ],
   "cell_type": "markdown",
   "metadata": {}
  },
  {
   "cell_type": "code",
   "execution_count": 114,
   "metadata": {},
   "outputs": [],
   "source": [
    "import pandas as pd\n",
    "import numpy as np\n",
    "import matplotlib.pyplot as plt\n",
    "import statsmodels.api as sm\n",
    "from sklearn.linear_model import LogisticRegression \n",
    "from sklearn.svm import SVC\n",
    "from sklearn.preprocessing import StandardScaler\n",
    "from sklearn.ensemble import RandomForestClassifier\n",
    "from sklearn.pipeline import make_pipeline\n",
    "from sklearn.metrics import confusion_matrix\n",
    "import csv"
   ]
  },
  {
   "source": [
    "### Encode column items"
   ],
   "cell_type": "markdown",
   "metadata": {}
  },
  {
   "source": [
    "## Feature Selection"
   ],
   "cell_type": "markdown",
   "metadata": {}
  },
  {
   "source": [
    "## Train models\n"
   ],
   "cell_type": "markdown",
   "metadata": {}
  },
  {
   "source": [
    "## Logistic regression"
   ],
   "cell_type": "markdown",
   "metadata": {}
  },
  {
   "source": [
    "## SVM classifier"
   ],
   "cell_type": "markdown",
   "metadata": {}
  },
  {
   "source": [
    "## Random forest classifier"
   ],
   "cell_type": "markdown",
   "metadata": {}
  },
  {
   "source": [
    "## Writing results to excel file"
   ],
   "cell_type": "markdown",
   "metadata": {}
  },
  {
   "cell_type": "code",
   "execution_count": 105,
   "metadata": {},
   "outputs": [],
   "source": [
    "#write to excel file - logistic regr\n",
    "with open('submissions2.csv', mode='w') as csv_file:\n",
    "    fieldnames = ['uniqueid', 'bank_account']\n",
    "    writer = csv.DictWriter(csv_file, fieldnames=fieldnames)\n",
    "    writer.writeheader()\n",
    "\n",
    "    test_X1 = pd.read_csv(\"Test_v2.csv\")\n",
    "    unique_ids = test_X1['uniqueid']\n",
    "    years = test_X1['country']\n",
    "    count = 0\n",
    "    for i in range(len(test_X1)): \n",
    "        writer.writerow({'uniqueid': unique_ids[i]+ ' x '+ years[i], 'bank_account': predict_test[count]})\n",
    "        count+=1\n",
    "    \n"
   ]
  },
  {
   "cell_type": "code",
   "execution_count": null,
   "metadata": {},
   "outputs": [],
   "source": [
    "#write to excel file - random forest\n",
    "with open('submissions_rf.csv', mode='w') as csv_file:\n",
    "    fieldnames = ['uniqueid', 'bank_account']\n",
    "    writer = csv.DictWriter(csv_file, fieldnames=fieldnames)\n",
    "    writer.writeheader()\n",
    "\n",
    "    test_X1 = pd.read_csv(\"Test_v2.csv\")\n",
    "    unique_ids = test_X1['uniqueid']\n",
    "    years = test_X1['country']\n",
    "    count = 0\n",
    "    for i in range(len(test_X1)): \n",
    "        writer.writerow({'uniqueid': unique_ids[i]+ ' x '+ years[i], 'bank_account': predictions_rf[count]})\n",
    "        count+=1"
   ]
  }
 ]
}